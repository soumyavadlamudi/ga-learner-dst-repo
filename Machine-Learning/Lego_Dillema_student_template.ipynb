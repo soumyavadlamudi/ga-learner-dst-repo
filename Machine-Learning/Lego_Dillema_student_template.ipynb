{
 "cells": [
  {
   "cell_type": "markdown",
   "metadata": {},
   "source": [
    "### Load and split the dataset\n",
    "- Load the train data and using all your knowledge of pandas try to explore the different statistical properties of the dataset.\n",
    "- Separate the features and target and then split the train data into train and validation set."
   ]
  },
  {
   "cell_type": "code",
   "execution_count": 1,
   "metadata": {},
   "outputs": [],
   "source": [
    "import pandas as pd\n",
    "import numpy as np\n",
    "import matplotlib.pyplot as plt\n",
    "from sklearn.linear_model import LinearRegression\n",
    "from sklearn.metrics import mean_squared_error, r2_score\n",
    "import seaborn as sns\n",
    "import warnings\n",
    "from sklearn.model_selection import train_test_split\n",
    "warnings.filterwarnings(\"ignore\")"
   ]
  },
  {
   "cell_type": "code",
   "execution_count": 2,
   "metadata": {},
   "outputs": [
    {
     "name": "stdout",
     "output_type": "stream",
     "text": [
      "<class 'pandas.core.frame.DataFrame'>\n",
      "RangeIndex: 8582 entries, 0 to 8581\n",
      "Data columns (total 11 columns):\n",
      "ages                 8582 non-null int64\n",
      "list_price           8582 non-null float64\n",
      "num_reviews          8582 non-null int64\n",
      "piece_count          8582 non-null int64\n",
      "play_star_rating     8582 non-null float64\n",
      "review_difficulty    8582 non-null int64\n",
      "star_rating          8582 non-null float64\n",
      "theme_name           8582 non-null int64\n",
      "val_star_rating      8582 non-null float64\n",
      "country              8582 non-null int64\n",
      "Id                   8582 non-null int64\n",
      "dtypes: float64(4), int64(7)\n",
      "memory usage: 737.6 KB\n"
     ]
    },
    {
     "data": {
      "text/plain": [
       "(None,\n",
       "               ages   list_price  num_reviews  piece_count  play_star_rating  \\\n",
       " count  8582.000000  8582.000000  8582.000000  8582.000000       8582.000000   \n",
       " mean     16.649149    64.493463    14.680727   486.677464          3.697809   \n",
       " std       8.186261    89.871631    34.867561   802.789725          1.653742   \n",
       " min       0.000000     2.272400     0.000000     1.000000          0.000000   \n",
       " 25%      11.000000    19.990000     1.000000    95.000000          3.600000   \n",
       " 50%      19.000000    36.587800     4.000000   214.000000          4.400000   \n",
       " 75%      23.000000    71.298000    12.000000   544.000000          4.700000   \n",
       " max      30.000000  1104.870000   367.000000  7541.000000          5.000000   \n",
       " \n",
       "        review_difficulty  star_rating   theme_name  val_star_rating  \\\n",
       " count        8582.000000  8582.000000  8582.000000      8582.000000   \n",
       " mean            1.994640     3.904649    20.482172         3.597448   \n",
       " std             1.792387     1.617678    11.948618         1.624698   \n",
       " min             0.000000     0.000000     0.000000         0.000000   \n",
       " 25%             0.000000     4.000000     9.000000         3.500000   \n",
       " 50%             2.000000     4.600000    21.000000         4.200000   \n",
       " 75%             4.000000     4.900000    34.000000         4.700000   \n",
       " max             5.000000     5.000000    40.000000         5.000000   \n",
       " \n",
       "            country           Id  \n",
       " count  8582.000000  8582.000000  \n",
       " mean     10.045211  4290.500000  \n",
       " std       6.191468  2477.554338  \n",
       " min       0.000000     0.000000  \n",
       " 25%       4.000000  2145.250000  \n",
       " 50%      10.000000  4290.500000  \n",
       " 75%      15.000000  6435.750000  \n",
       " max      20.000000  8581.000000  )"
      ]
     },
     "execution_count": 2,
     "metadata": {},
     "output_type": "execute_result"
    }
   ],
   "source": [
    "# Code starts here\n",
    "train = pd.read_csv('train.csv')\n",
    "test = pd.read_csv('test.csv')\n",
    "# submission = pd.read_csv('sample_submission.csv')\n",
    "train.info(), train.describe()\n",
    "\n",
    "# Code ends here."
   ]
  },
  {
   "cell_type": "code",
   "execution_count": 3,
   "metadata": {},
   "outputs": [
    {
     "data": {
      "text/plain": [
       "(ages                 0\n",
       " list_price           0\n",
       " num_reviews          0\n",
       " piece_count          0\n",
       " play_star_rating     0\n",
       " review_difficulty    0\n",
       " star_rating          0\n",
       " theme_name           0\n",
       " val_star_rating      0\n",
       " country              0\n",
       " Id                   0\n",
       " dtype: int64,\n",
       " (8582, 11),\n",
       " (3679, 10))"
      ]
     },
     "execution_count": 3,
     "metadata": {},
     "output_type": "execute_result"
    }
   ],
   "source": [
    "train.isnull().sum(), train.shape, test.shape"
   ]
  },
  {
   "cell_type": "code",
   "execution_count": 4,
   "metadata": {},
   "outputs": [
    {
     "data": {
      "text/html": [
       "<div>\n",
       "<style scoped>\n",
       "    .dataframe tbody tr th:only-of-type {\n",
       "        vertical-align: middle;\n",
       "    }\n",
       "\n",
       "    .dataframe tbody tr th {\n",
       "        vertical-align: top;\n",
       "    }\n",
       "\n",
       "    .dataframe thead th {\n",
       "        text-align: right;\n",
       "    }\n",
       "</style>\n",
       "<table border=\"1\" class=\"dataframe\">\n",
       "  <thead>\n",
       "    <tr style=\"text-align: right;\">\n",
       "      <th></th>\n",
       "      <th>ages</th>\n",
       "      <th>list_price</th>\n",
       "      <th>num_reviews</th>\n",
       "      <th>piece_count</th>\n",
       "      <th>play_star_rating</th>\n",
       "      <th>review_difficulty</th>\n",
       "      <th>star_rating</th>\n",
       "      <th>theme_name</th>\n",
       "      <th>val_star_rating</th>\n",
       "      <th>country</th>\n",
       "      <th>Id</th>\n",
       "    </tr>\n",
       "  </thead>\n",
       "  <tbody>\n",
       "    <tr>\n",
       "      <th>8577</th>\n",
       "      <td>29</td>\n",
       "      <td>152.4878</td>\n",
       "      <td>13</td>\n",
       "      <td>955</td>\n",
       "      <td>4.1</td>\n",
       "      <td>0</td>\n",
       "      <td>3.7</td>\n",
       "      <td>10</td>\n",
       "      <td>3.0</td>\n",
       "      <td>13</td>\n",
       "      <td>8577</td>\n",
       "    </tr>\n",
       "    <tr>\n",
       "      <th>8578</th>\n",
       "      <td>19</td>\n",
       "      <td>18.2878</td>\n",
       "      <td>0</td>\n",
       "      <td>119</td>\n",
       "      <td>0.0</td>\n",
       "      <td>5</td>\n",
       "      <td>0.0</td>\n",
       "      <td>17</td>\n",
       "      <td>0.0</td>\n",
       "      <td>6</td>\n",
       "      <td>8578</td>\n",
       "    </tr>\n",
       "    <tr>\n",
       "      <th>8579</th>\n",
       "      <td>23</td>\n",
       "      <td>36.5878</td>\n",
       "      <td>6</td>\n",
       "      <td>76</td>\n",
       "      <td>4.2</td>\n",
       "      <td>2</td>\n",
       "      <td>4.5</td>\n",
       "      <td>12</td>\n",
       "      <td>3.4</td>\n",
       "      <td>15</td>\n",
       "      <td>8579</td>\n",
       "    </tr>\n",
       "    <tr>\n",
       "      <th>8580</th>\n",
       "      <td>0</td>\n",
       "      <td>12.1878</td>\n",
       "      <td>3</td>\n",
       "      <td>119</td>\n",
       "      <td>4.5</td>\n",
       "      <td>2</td>\n",
       "      <td>5.0</td>\n",
       "      <td>4</td>\n",
       "      <td>4.5</td>\n",
       "      <td>13</td>\n",
       "      <td>8580</td>\n",
       "    </tr>\n",
       "    <tr>\n",
       "      <th>8581</th>\n",
       "      <td>23</td>\n",
       "      <td>11.6922</td>\n",
       "      <td>1</td>\n",
       "      <td>56</td>\n",
       "      <td>4.0</td>\n",
       "      <td>2</td>\n",
       "      <td>5.0</td>\n",
       "      <td>12</td>\n",
       "      <td>5.0</td>\n",
       "      <td>3</td>\n",
       "      <td>8581</td>\n",
       "    </tr>\n",
       "  </tbody>\n",
       "</table>\n",
       "</div>"
      ],
      "text/plain": [
       "      ages  list_price  num_reviews  piece_count  play_star_rating  \\\n",
       "8577    29    152.4878           13          955               4.1   \n",
       "8578    19     18.2878            0          119               0.0   \n",
       "8579    23     36.5878            6           76               4.2   \n",
       "8580     0     12.1878            3          119               4.5   \n",
       "8581    23     11.6922            1           56               4.0   \n",
       "\n",
       "      review_difficulty  star_rating  theme_name  val_star_rating  country  \\\n",
       "8577                  0          3.7          10              3.0       13   \n",
       "8578                  5          0.0          17              0.0        6   \n",
       "8579                  2          4.5          12              3.4       15   \n",
       "8580                  2          5.0           4              4.5       13   \n",
       "8581                  2          5.0          12              5.0        3   \n",
       "\n",
       "        Id  \n",
       "8577  8577  \n",
       "8578  8578  \n",
       "8579  8579  \n",
       "8580  8580  \n",
       "8581  8581  "
      ]
     },
     "execution_count": 4,
     "metadata": {},
     "output_type": "execute_result"
    }
   ],
   "source": [
    "train.tail()"
   ]
  },
  {
   "cell_type": "markdown",
   "metadata": {},
   "source": [
    "### Data Visualization\n",
    "\n",
    "- All the features including target variable are continuous. \n",
    "- Check out the best plots for plotting between continuous features and try making some inferences from these plots. "
   ]
  },
  {
   "cell_type": "code",
   "execution_count": 5,
   "metadata": {},
   "outputs": [
    {
     "data": {
      "text/plain": [
       "<matplotlib.axes._subplots.AxesSubplot at 0x7f91a5a45dd8>"
      ]
     },
     "execution_count": 5,
     "metadata": {},
     "output_type": "execute_result"
    },
    {
     "data": {
      "image/png": "[encoded data removed]",
      "text/plain": [
       "<Figure size 576x432 with 1 Axes>"
      ]
     },
     "metadata": {
      "needs_background": "light"
     },
     "output_type": "display_data"
    }
   ],
   "source": [
    "# Code starts here\n",
    "plt.figure(figsize = (8,6))\n",
    "sns.distplot(train['list_price'])\n",
    "# Code ends here."
   ]
  },
  {
   "cell_type": "markdown",
   "metadata": {},
   "source": [
    "Target variable is positive skewed."
   ]
  },
  {
   "cell_type": "code",
   "execution_count": 6,
   "metadata": {},
   "outputs": [
    {
     "data": {
      "text/plain": [
       "<matplotlib.axes._subplots.AxesSubplot at 0x7f91a3467898>"
      ]
     },
     "execution_count": 6,
     "metadata": {},
     "output_type": "execute_result"
    },
    {
     "data": {
      "image/png": "[encoded data removed]",
      "text/plain": [
       "<Figure size 432x288 with 1 Axes>"
      ]
     },
     "metadata": {
      "needs_background": "light"
     },
     "output_type": "display_data"
    }
   ],
   "source": [
    "train['ages'].value_counts().sort_values(ascending = False).plot(kind = 'bar')\n"
   ]
  },
  {
   "cell_type": "code",
   "execution_count": 7,
   "metadata": {},
   "outputs": [],
   "source": [
    "X = train.drop('list_price', axis = 1)\n",
    "Y = train['list_price']"
   ]
  },
  {
   "cell_type": "code",
   "execution_count": 8,
   "metadata": {},
   "outputs": [],
   "source": [
    "X_train, X_test,Y_train,Y_test = train_test_split(X, Y, test_size = 0.3, random_state = 100)"
   ]
  },
  {
   "cell_type": "code",
   "execution_count": 9,
   "metadata": {},
   "outputs": [
    {
     "data": {
      "image/png": "[encoded data removed]",
      "text/plain": [
       "<Figure size 1440x1440 with 9 Axes>"
      ]
     },
     "metadata": {
      "needs_background": "light"
     },
     "output_type": "display_data"
    }
   ],
   "source": [
    "cols = X_train.columns\n",
    "fig, axes = plt.subplots(nrows= 3, ncols = 3, figsize=(20,20))\n",
    "for i in range(0,3):\n",
    "    for j in range(0,3):\n",
    "        col = cols[i*3 + j]\n",
    "        axes[i,j].set_title(col)\n",
    "        axes[i,j].scatter(X_train[col], Y_train)\n",
    "        axes[i,j].set_xlabel(col)\n",
    "        axes[i,j].set_ylabel('list_price')\n",
    "        "
   ]
  },
  {
   "cell_type": "code",
   "execution_count": 10,
   "metadata": {},
   "outputs": [
    {
     "data": {
      "text/html": [
       "<div>\n",
       "<style scoped>\n",
       "    .dataframe tbody tr th:only-of-type {\n",
       "        vertical-align: middle;\n",
       "    }\n",
       "\n",
       "    .dataframe tbody tr th {\n",
       "        vertical-align: top;\n",
       "    }\n",
       "\n",
       "    .dataframe thead th {\n",
       "        text-align: right;\n",
       "    }\n",
       "</style>\n",
       "<table border=\"1\" class=\"dataframe\">\n",
       "  <thead>\n",
       "    <tr style=\"text-align: right;\">\n",
       "      <th></th>\n",
       "      <th>ages</th>\n",
       "      <th>list_price</th>\n",
       "      <th>num_reviews</th>\n",
       "      <th>piece_count</th>\n",
       "      <th>play_star_rating</th>\n",
       "      <th>review_difficulty</th>\n",
       "      <th>star_rating</th>\n",
       "      <th>theme_name</th>\n",
       "      <th>val_star_rating</th>\n",
       "      <th>country</th>\n",
       "      <th>Id</th>\n",
       "    </tr>\n",
       "  </thead>\n",
       "  <tbody>\n",
       "    <tr>\n",
       "      <th>ages</th>\n",
       "      <td>1.000000</td>\n",
       "      <td>-0.076763</td>\n",
       "      <td>-0.160969</td>\n",
       "      <td>-0.090685</td>\n",
       "      <td>0.232847</td>\n",
       "      <td>-0.239683</td>\n",
       "      <td>0.102633</td>\n",
       "      <td>0.476178</td>\n",
       "      <td>0.116349</td>\n",
       "      <td>-0.001526</td>\n",
       "      <td>0.012979</td>\n",
       "    </tr>\n",
       "    <tr>\n",
       "      <th>list_price</th>\n",
       "      <td>-0.076763</td>\n",
       "      <td>1.000000</td>\n",
       "      <td>0.439499</td>\n",
       "      <td>0.866119</td>\n",
       "      <td>0.145151</td>\n",
       "      <td>-0.284760</td>\n",
       "      <td>0.126577</td>\n",
       "      <td>0.192707</td>\n",
       "      <td>0.114612</td>\n",
       "      <td>0.018192</td>\n",
       "      <td>-0.004015</td>\n",
       "    </tr>\n",
       "    <tr>\n",
       "      <th>num_reviews</th>\n",
       "      <td>-0.160969</td>\n",
       "      <td>0.439499</td>\n",
       "      <td>1.000000</td>\n",
       "      <td>0.542924</td>\n",
       "      <td>0.151801</td>\n",
       "      <td>-0.196846</td>\n",
       "      <td>0.160762</td>\n",
       "      <td>0.012342</td>\n",
       "      <td>0.172431</td>\n",
       "      <td>0.001953</td>\n",
       "      <td>-0.004335</td>\n",
       "    </tr>\n",
       "    <tr>\n",
       "      <th>piece_count</th>\n",
       "      <td>-0.090685</td>\n",
       "      <td>0.866119</td>\n",
       "      <td>0.542924</td>\n",
       "      <td>1.000000</td>\n",
       "      <td>0.174411</td>\n",
       "      <td>-0.312239</td>\n",
       "      <td>0.180903</td>\n",
       "      <td>0.173318</td>\n",
       "      <td>0.192863</td>\n",
       "      <td>0.002506</td>\n",
       "      <td>-0.001435</td>\n",
       "    </tr>\n",
       "    <tr>\n",
       "      <th>play_star_rating</th>\n",
       "      <td>0.232847</td>\n",
       "      <td>0.145151</td>\n",
       "      <td>0.151801</td>\n",
       "      <td>0.174411</td>\n",
       "      <td>1.000000</td>\n",
       "      <td>-0.670508</td>\n",
       "      <td>0.902573</td>\n",
       "      <td>0.151078</td>\n",
       "      <td>0.921824</td>\n",
       "      <td>-0.000958</td>\n",
       "      <td>-0.005477</td>\n",
       "    </tr>\n",
       "    <tr>\n",
       "      <th>review_difficulty</th>\n",
       "      <td>-0.239683</td>\n",
       "      <td>-0.284760</td>\n",
       "      <td>-0.196846</td>\n",
       "      <td>-0.312239</td>\n",
       "      <td>-0.670508</td>\n",
       "      <td>1.000000</td>\n",
       "      <td>-0.637901</td>\n",
       "      <td>-0.153948</td>\n",
       "      <td>-0.650333</td>\n",
       "      <td>0.006417</td>\n",
       "      <td>0.002682</td>\n",
       "    </tr>\n",
       "    <tr>\n",
       "      <th>star_rating</th>\n",
       "      <td>0.102633</td>\n",
       "      <td>0.126577</td>\n",
       "      <td>0.160762</td>\n",
       "      <td>0.180903</td>\n",
       "      <td>0.902573</td>\n",
       "      <td>-0.637901</td>\n",
       "      <td>1.000000</td>\n",
       "      <td>0.065264</td>\n",
       "      <td>0.908720</td>\n",
       "      <td>-0.003865</td>\n",
       "      <td>-0.007639</td>\n",
       "    </tr>\n",
       "    <tr>\n",
       "      <th>theme_name</th>\n",
       "      <td>0.476178</td>\n",
       "      <td>0.192707</td>\n",
       "      <td>0.012342</td>\n",
       "      <td>0.173318</td>\n",
       "      <td>0.151078</td>\n",
       "      <td>-0.153948</td>\n",
       "      <td>0.065264</td>\n",
       "      <td>1.000000</td>\n",
       "      <td>0.097430</td>\n",
       "      <td>-0.003625</td>\n",
       "      <td>-0.001884</td>\n",
       "    </tr>\n",
       "    <tr>\n",
       "      <th>val_star_rating</th>\n",
       "      <td>0.116349</td>\n",
       "      <td>0.114612</td>\n",
       "      <td>0.172431</td>\n",
       "      <td>0.192863</td>\n",
       "      <td>0.921824</td>\n",
       "      <td>-0.650333</td>\n",
       "      <td>0.908720</td>\n",
       "      <td>0.097430</td>\n",
       "      <td>1.000000</td>\n",
       "      <td>0.002413</td>\n",
       "      <td>-0.016912</td>\n",
       "    </tr>\n",
       "    <tr>\n",
       "      <th>country</th>\n",
       "      <td>-0.001526</td>\n",
       "      <td>0.018192</td>\n",
       "      <td>0.001953</td>\n",
       "      <td>0.002506</td>\n",
       "      <td>-0.000958</td>\n",
       "      <td>0.006417</td>\n",
       "      <td>-0.003865</td>\n",
       "      <td>-0.003625</td>\n",
       "      <td>0.002413</td>\n",
       "      <td>1.000000</td>\n",
       "      <td>-0.028541</td>\n",
       "    </tr>\n",
       "    <tr>\n",
       "      <th>Id</th>\n",
       "      <td>0.012979</td>\n",
       "      <td>-0.004015</td>\n",
       "      <td>-0.004335</td>\n",
       "      <td>-0.001435</td>\n",
       "      <td>-0.005477</td>\n",
       "      <td>0.002682</td>\n",
       "      <td>-0.007639</td>\n",
       "      <td>-0.001884</td>\n",
       "      <td>-0.016912</td>\n",
       "      <td>-0.028541</td>\n",
       "      <td>1.000000</td>\n",
       "    </tr>\n",
       "  </tbody>\n",
       "</table>\n",
       "</div>"
      ],
      "text/plain": [
       "                       ages  list_price  num_reviews  piece_count  \\\n",
       "ages               1.000000   -0.076763    -0.160969    -0.090685   \n",
       "list_price        -0.076763    1.000000     0.439499     0.866119   \n",
       "num_reviews       -0.160969    0.439499     1.000000     0.542924   \n",
       "piece_count       -0.090685    0.866119     0.542924     1.000000   \n",
       "play_star_rating   0.232847    0.145151     0.151801     0.174411   \n",
       "review_difficulty -0.239683   -0.284760    -0.196846    -0.312239   \n",
       "star_rating        0.102633    0.126577     0.160762     0.180903   \n",
       "theme_name         0.476178    0.192707     0.012342     0.173318   \n",
       "val_star_rating    0.116349    0.114612     0.172431     0.192863   \n",
       "country           -0.001526    0.018192     0.001953     0.002506   \n",
       "Id                 0.012979   -0.004015    -0.004335    -0.001435   \n",
       "\n",
       "                   play_star_rating  review_difficulty  star_rating  \\\n",
       "ages                       0.232847          -0.239683     0.102633   \n",
       "list_price                 0.145151          -0.284760     0.126577   \n",
       "num_reviews                0.151801          -0.196846     0.160762   \n",
       "piece_count                0.174411          -0.312239     0.180903   \n",
       "play_star_rating           1.000000          -0.670508     0.902573   \n",
       "review_difficulty         -0.670508           1.000000    -0.637901   \n",
       "star_rating                0.902573          -0.637901     1.000000   \n",
       "theme_name                 0.151078          -0.153948     0.065264   \n",
       "val_star_rating            0.921824          -0.650333     0.908720   \n",
       "country                   -0.000958           0.006417    -0.003865   \n",
       "Id                        -0.005477           0.002682    -0.007639   \n",
       "\n",
       "                   theme_name  val_star_rating   country        Id  \n",
       "ages                 0.476178         0.116349 -0.001526  0.012979  \n",
       "list_price           0.192707         0.114612  0.018192 -0.004015  \n",
       "num_reviews          0.012342         0.172431  0.001953 -0.004335  \n",
       "piece_count          0.173318         0.192863  0.002506 -0.001435  \n",
       "play_star_rating     0.151078         0.921824 -0.000958 -0.005477  \n",
       "review_difficulty   -0.153948        -0.650333  0.006417  0.002682  \n",
       "star_rating          0.065264         0.908720 -0.003865 -0.007639  \n",
       "theme_name           1.000000         0.097430 -0.003625 -0.001884  \n",
       "val_star_rating      0.097430         1.000000  0.002413 -0.016912  \n",
       "country             -0.003625         0.002413  1.000000 -0.028541  \n",
       "Id                  -0.001884        -0.016912 -0.028541  1.000000  "
      ]
     },
     "execution_count": 10,
     "metadata": {},
     "output_type": "execute_result"
    }
   ],
   "source": [
    "corr = train.corr()\n",
    "corr"
   ]
  },
  {
   "cell_type": "markdown",
   "metadata": {},
   "source": [
    "High correlation between star_rating, play_star_rating and val_star_rating. So dropped any 2 of them"
   ]
  },
  {
   "cell_type": "markdown",
   "metadata": {},
   "source": [
    "### Feature Selection\n",
    "- Try selecting suitable threshold and accordingly drop the columns."
   ]
  },
  {
   "cell_type": "code",
   "execution_count": 11,
   "metadata": {},
   "outputs": [],
   "source": [
    "# Code starts here\n",
    "X_train.drop(['play_star_rating','val_star_rating', 'Id'], axis = 1, inplace = True)\n",
    "X_test.drop(['play_star_rating', 'val_star_rating', 'Id'], axis = 1, inplace = True)\n",
    "\n",
    "# Code ends here."
   ]
  },
  {
   "cell_type": "markdown",
   "metadata": {},
   "source": [
    "### Model building"
   ]
  },
  {
   "cell_type": "code",
   "execution_count": 12,
   "metadata": {},
   "outputs": [
    {
     "name": "stdout",
     "output_type": "stream",
     "text": [
      "mean squared error 2034.8577609007057\n",
      "R square 0.733711747859632\n"
     ]
    }
   ],
   "source": [
    "# Code starts here\n",
    "\n",
    "reg = LinearRegression()\n",
    "reg.fit(X_train, Y_train)\n",
    "Y_pred = reg.predict(X_test)\n",
    "\n",
    "mse = mean_squared_error(Y_test, Y_pred)\n",
    "r2 = r2_score(Y_test, Y_pred)\n",
    "\n",
    "print('mean squared error', mse)\n",
    "print('R square',r2)\n",
    "\n",
    "\n",
    "\n",
    "\n",
    "\n",
    "\n",
    "\n",
    "\n",
    "# Code ends here."
   ]
  },
  {
   "cell_type": "markdown",
   "metadata": {},
   "source": [
    "### Residual check!\n",
    "\n",
    "- Check the distribution of the residual."
   ]
  },
  {
   "cell_type": "code",
   "execution_count": 13,
   "metadata": {},
   "outputs": [
    {
     "data": {
      "text/plain": [
       "Text(0.5, 1.0, 'Distribution of residual')"
      ]
     },
     "execution_count": 13,
     "metadata": {},
     "output_type": "execute_result"
    },
    {
     "data": {
      "image/png": "[encoded data removed]",
      "text/plain": [
       "<Figure size 720x432 with 1 Axes>"
      ]
     },
     "metadata": {
      "needs_background": "light"
     },
     "output_type": "display_data"
    }
   ],
   "source": [
    "# Code starts here\n",
    "\n",
    "residual = Y_test - Y_pred\n",
    "plt.figure(figsize=(10,6))\n",
    "sns.distplot(residual)\n",
    "plt.xlabel('Residual')\n",
    "plt.title('Distribution of residual')\n",
    "\n",
    "\n",
    "\n",
    "\n",
    "\n",
    "\n",
    "\n",
    "\n",
    "\n",
    "# Code ends here."
   ]
  },
  {
   "cell_type": "markdown",
   "metadata": {},
   "source": [
    "### Prediction on the test data and creating the sample submission file.\n",
    "\n",
    "- Load the test data and store the `Id` column in a separate variable.\n",
    "- Perform the same operations on the test data that you have performed on the train data.\n",
    "- Create the submission file as a `csv` file consisting of the `Id` column from the test data and your prediction as the second column."
   ]
  },
  {
   "cell_type": "code",
   "execution_count": 14,
   "metadata": {},
   "outputs": [],
   "source": [
    "# Code starts here\n",
    "\n",
    "\n",
    "test_x = test.drop(['play_star_rating','val_star_rating', 'Id'], axis = 1)\n",
    "test['list_price'] = reg.predict(test_x)\n",
    "# Code ends here."
   ]
  },
  {
   "cell_type": "code",
   "execution_count": 15,
   "metadata": {},
   "outputs": [
    {
     "data": {
      "text/html": [
       "<div>\n",
       "<style scoped>\n",
       "    .dataframe tbody tr th:only-of-type {\n",
       "        vertical-align: middle;\n",
       "    }\n",
       "\n",
       "    .dataframe tbody tr th {\n",
       "        vertical-align: top;\n",
       "    }\n",
       "\n",
       "    .dataframe thead th {\n",
       "        text-align: right;\n",
       "    }\n",
       "</style>\n",
       "<table border=\"1\" class=\"dataframe\">\n",
       "  <thead>\n",
       "    <tr style=\"text-align: right;\">\n",
       "      <th></th>\n",
       "      <th>Id</th>\n",
       "      <th>list_price</th>\n",
       "    </tr>\n",
       "  </thead>\n",
       "  <tbody>\n",
       "    <tr>\n",
       "      <th>3674</th>\n",
       "      <td>2144</td>\n",
       "      <td>12.313889</td>\n",
       "    </tr>\n",
       "    <tr>\n",
       "      <th>3675</th>\n",
       "      <td>7242</td>\n",
       "      <td>71.842570</td>\n",
       "    </tr>\n",
       "    <tr>\n",
       "      <th>3676</th>\n",
       "      <td>11631</td>\n",
       "      <td>27.086956</td>\n",
       "    </tr>\n",
       "    <tr>\n",
       "      <th>3677</th>\n",
       "      <td>4639</td>\n",
       "      <td>15.225990</td>\n",
       "    </tr>\n",
       "    <tr>\n",
       "      <th>3678</th>\n",
       "      <td>7269</td>\n",
       "      <td>19.517445</td>\n",
       "    </tr>\n",
       "  </tbody>\n",
       "</table>\n",
       "</div>"
      ],
      "text/plain": [
       "         Id  list_price\n",
       "3674   2144   12.313889\n",
       "3675   7242   71.842570\n",
       "3676  11631   27.086956\n",
       "3677   4639   15.225990\n",
       "3678   7269   19.517445"
      ]
     },
     "execution_count": 15,
     "metadata": {},
     "output_type": "execute_result"
    }
   ],
   "source": [
    "submission = test[['Id', 'list_price']]\n",
    "submission.tail()\n"
   ]
  },
  {
   "cell_type": "code",
   "execution_count": 16,
   "metadata": {},
   "outputs": [
    {
     "data": {
      "text/html": [
       "<div>\n",
       "<style scoped>\n",
       "    .dataframe tbody tr th:only-of-type {\n",
       "        vertical-align: middle;\n",
       "    }\n",
       "\n",
       "    .dataframe tbody tr th {\n",
       "        vertical-align: top;\n",
       "    }\n",
       "\n",
       "    .dataframe thead th {\n",
       "        text-align: right;\n",
       "    }\n",
       "</style>\n",
       "<table border=\"1\" class=\"dataframe\">\n",
       "  <thead>\n",
       "    <tr style=\"text-align: right;\">\n",
       "      <th></th>\n",
       "      <th>ages</th>\n",
       "      <th>num_reviews</th>\n",
       "      <th>piece_count</th>\n",
       "      <th>play_star_rating</th>\n",
       "      <th>review_difficulty</th>\n",
       "      <th>star_rating</th>\n",
       "      <th>theme_name</th>\n",
       "      <th>val_star_rating</th>\n",
       "      <th>country</th>\n",
       "      <th>Id</th>\n",
       "      <th>list_price</th>\n",
       "    </tr>\n",
       "  </thead>\n",
       "  <tbody>\n",
       "    <tr>\n",
       "      <th>3674</th>\n",
       "      <td>13</td>\n",
       "      <td>1</td>\n",
       "      <td>75</td>\n",
       "      <td>5.0</td>\n",
       "      <td>5</td>\n",
       "      <td>5.0</td>\n",
       "      <td>21</td>\n",
       "      <td>5.0</td>\n",
       "      <td>2</td>\n",
       "      <td>2144</td>\n",
       "      <td>12.313889</td>\n",
       "    </tr>\n",
       "    <tr>\n",
       "      <th>3675</th>\n",
       "      <td>26</td>\n",
       "      <td>21</td>\n",
       "      <td>494</td>\n",
       "      <td>4.6</td>\n",
       "      <td>0</td>\n",
       "      <td>4.5</td>\n",
       "      <td>38</td>\n",
       "      <td>4.8</td>\n",
       "      <td>10</td>\n",
       "      <td>7242</td>\n",
       "      <td>71.842570</td>\n",
       "    </tr>\n",
       "    <tr>\n",
       "      <th>3676</th>\n",
       "      <td>26</td>\n",
       "      <td>3</td>\n",
       "      <td>85</td>\n",
       "      <td>4.7</td>\n",
       "      <td>2</td>\n",
       "      <td>4.7</td>\n",
       "      <td>34</td>\n",
       "      <td>4.7</td>\n",
       "      <td>18</td>\n",
       "      <td>11631</td>\n",
       "      <td>27.086956</td>\n",
       "    </tr>\n",
       "    <tr>\n",
       "      <th>3677</th>\n",
       "      <td>11</td>\n",
       "      <td>3</td>\n",
       "      <td>28</td>\n",
       "      <td>5.0</td>\n",
       "      <td>2</td>\n",
       "      <td>5.0</td>\n",
       "      <td>13</td>\n",
       "      <td>4.5</td>\n",
       "      <td>6</td>\n",
       "      <td>4639</td>\n",
       "      <td>15.225990</td>\n",
       "    </tr>\n",
       "    <tr>\n",
       "      <th>3678</th>\n",
       "      <td>0</td>\n",
       "      <td>1</td>\n",
       "      <td>136</td>\n",
       "      <td>0.0</td>\n",
       "      <td>5</td>\n",
       "      <td>5.0</td>\n",
       "      <td>4</td>\n",
       "      <td>0.0</td>\n",
       "      <td>11</td>\n",
       "      <td>7269</td>\n",
       "      <td>19.517445</td>\n",
       "    </tr>\n",
       "  </tbody>\n",
       "</table>\n",
       "</div>"
      ],
      "text/plain": [
       "      ages  num_reviews  piece_count  play_star_rating  review_difficulty  \\\n",
       "3674    13            1           75               5.0                  5   \n",
       "3675    26           21          494               4.6                  0   \n",
       "3676    26            3           85               4.7                  2   \n",
       "3677    11            3           28               5.0                  2   \n",
       "3678     0            1          136               0.0                  5   \n",
       "\n",
       "      star_rating  theme_name  val_star_rating  country     Id  list_price  \n",
       "3674          5.0          21              5.0        2   2144   12.313889  \n",
       "3675          4.5          38              4.8       10   7242   71.842570  \n",
       "3676          4.7          34              4.7       18  11631   27.086956  \n",
       "3677          5.0          13              4.5        6   4639   15.225990  \n",
       "3678          5.0           4              0.0       11   7269   19.517445  "
      ]
     },
     "execution_count": 16,
     "metadata": {},
     "output_type": "execute_result"
    }
   ],
   "source": [
    "\n",
    "test.tail()\n"
   ]
  },
  {
   "cell_type": "code",
   "execution_count": 17,
   "metadata": {},
   "outputs": [],
   "source": [
    "submission.to_csv('sample_submission.csv')"
   ]
  }
 ],
 "metadata": {
  "kernelspec": {
   "display_name": "Python 3",
   "language": "python",
   "name": "python3"
  },
  "language_info": {
   "codemirror_mode": {
    "name": "ipython",
    "version": 3
   },
   "file_extension": ".py",
   "mimetype": "text/x-python",
   "name": "python",
   "nbconvert_exporter": "python",
   "pygments_lexer": "ipython3",
   "version": "3.7.3"
  }
 },
 "nbformat": 4,
 "nbformat_minor": 2
}
