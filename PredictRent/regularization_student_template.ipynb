{
 "cells": [
  {
   "cell_type": "code",
   "execution_count": 143,
   "metadata": {},
   "outputs": [],
   "source": [
    "import numpy as np\n",
    "import pandas as pd\n",
    "import seaborn as sns\n",
    "import matplotlib.pyplot as plt\n",
    "from sklearn.model_selection import train_test_split, cross_val_score, GridSearchCV\n",
    "from sklearn.linear_model import LinearRegression, Lasso, Ridge\n",
    "from sklearn.metrics import r2_score, mean_squared_error, make_scorer\n",
    "from sklearn.preprocessing import PolynomialFeatures\n",
    "from sklearn.pipeline import make_pipeline\n",
    "\n",
    "import warnings\n",
    "warnings.filterwarnings('ignore')"
   ]
  },
  {
   "cell_type": "markdown",
   "metadata": {},
   "source": [
    "### Load the dataset\n",
    "\n",
    "- Load the train data and using all your knowledge of pandas try to explore the different statistical properties like correlation of the dataset."
   ]
  },
  {
   "cell_type": "code",
   "execution_count": 117,
   "metadata": {},
   "outputs": [
    {
     "data": {
      "text/html": [
       "<div>\n",
       "<style scoped>\n",
       "    .dataframe tbody tr th:only-of-type {\n",
       "        vertical-align: middle;\n",
       "    }\n",
       "\n",
       "    .dataframe tbody tr th {\n",
       "        vertical-align: top;\n",
       "    }\n",
       "\n",
       "    .dataframe thead th {\n",
       "        text-align: right;\n",
       "    }\n",
       "</style>\n",
       "<table border=\"1\" class=\"dataframe\">\n",
       "  <thead>\n",
       "    <tr style=\"text-align: right;\">\n",
       "      <th></th>\n",
       "      <th>Id</th>\n",
       "      <th>Rooms</th>\n",
       "      <th>Type</th>\n",
       "      <th>Price</th>\n",
       "      <th>Method</th>\n",
       "      <th>SellerG</th>\n",
       "      <th>Distance</th>\n",
       "      <th>Postcode</th>\n",
       "      <th>Bathroom</th>\n",
       "      <th>Car</th>\n",
       "      <th>Landsize</th>\n",
       "      <th>BuildingArea</th>\n",
       "      <th>YearBuilt</th>\n",
       "      <th>CouncilArea</th>\n",
       "      <th>Longtitude</th>\n",
       "      <th>Regionname</th>\n",
       "      <th>Propertycount</th>\n",
       "    </tr>\n",
       "  </thead>\n",
       "  <tbody>\n",
       "    <tr>\n",
       "      <th>0</th>\n",
       "      <td>124</td>\n",
       "      <td>3</td>\n",
       "      <td>2</td>\n",
       "      <td>995000</td>\n",
       "      <td>1</td>\n",
       "      <td>135</td>\n",
       "      <td>6.3</td>\n",
       "      <td>3143</td>\n",
       "      <td>2</td>\n",
       "      <td>2</td>\n",
       "      <td>0</td>\n",
       "      <td>100.0</td>\n",
       "      <td>1998</td>\n",
       "      <td>26</td>\n",
       "      <td>145.01600</td>\n",
       "      <td>5</td>\n",
       "      <td>4836</td>\n",
       "    </tr>\n",
       "    <tr>\n",
       "      <th>1</th>\n",
       "      <td>5905</td>\n",
       "      <td>2</td>\n",
       "      <td>0</td>\n",
       "      <td>1080000</td>\n",
       "      <td>1</td>\n",
       "      <td>155</td>\n",
       "      <td>2.0</td>\n",
       "      <td>3066</td>\n",
       "      <td>1</td>\n",
       "      <td>0</td>\n",
       "      <td>0</td>\n",
       "      <td>94.0</td>\n",
       "      <td>1890</td>\n",
       "      <td>31</td>\n",
       "      <td>144.98863</td>\n",
       "      <td>2</td>\n",
       "      <td>4553</td>\n",
       "    </tr>\n",
       "    <tr>\n",
       "      <th>2</th>\n",
       "      <td>5963</td>\n",
       "      <td>3</td>\n",
       "      <td>0</td>\n",
       "      <td>725000</td>\n",
       "      <td>1</td>\n",
       "      <td>196</td>\n",
       "      <td>17.9</td>\n",
       "      <td>3082</td>\n",
       "      <td>2</td>\n",
       "      <td>2</td>\n",
       "      <td>602</td>\n",
       "      <td>129.0</td>\n",
       "      <td>1980</td>\n",
       "      <td>29</td>\n",
       "      <td>145.06912</td>\n",
       "      <td>2</td>\n",
       "      <td>10529</td>\n",
       "    </tr>\n",
       "    <tr>\n",
       "      <th>3</th>\n",
       "      <td>3521</td>\n",
       "      <td>4</td>\n",
       "      <td>0</td>\n",
       "      <td>1330000</td>\n",
       "      <td>1</td>\n",
       "      <td>251</td>\n",
       "      <td>8.0</td>\n",
       "      <td>3016</td>\n",
       "      <td>3</td>\n",
       "      <td>2</td>\n",
       "      <td>217</td>\n",
       "      <td>266.0</td>\n",
       "      <td>2003</td>\n",
       "      <td>10</td>\n",
       "      <td>144.87960</td>\n",
       "      <td>6</td>\n",
       "      <td>6380</td>\n",
       "    </tr>\n",
       "    <tr>\n",
       "      <th>4</th>\n",
       "      <td>3738</td>\n",
       "      <td>3</td>\n",
       "      <td>0</td>\n",
       "      <td>620000</td>\n",
       "      <td>1</td>\n",
       "      <td>221</td>\n",
       "      <td>12.4</td>\n",
       "      <td>3060</td>\n",
       "      <td>1</td>\n",
       "      <td>2</td>\n",
       "      <td>604</td>\n",
       "      <td>190.0</td>\n",
       "      <td>1970</td>\n",
       "      <td>23</td>\n",
       "      <td>144.96860</td>\n",
       "      <td>2</td>\n",
       "      <td>5070</td>\n",
       "    </tr>\n",
       "  </tbody>\n",
       "</table>\n",
       "</div>"
      ],
      "text/plain": [
       "     Id  Rooms  Type    Price  Method  SellerG  Distance  Postcode  Bathroom  \\\n",
       "0   124      3     2   995000       1      135       6.3      3143         2   \n",
       "1  5905      2     0  1080000       1      155       2.0      3066         1   \n",
       "2  5963      3     0   725000       1      196      17.9      3082         2   \n",
       "3  3521      4     0  1330000       1      251       8.0      3016         3   \n",
       "4  3738      3     0   620000       1      221      12.4      3060         1   \n",
       "\n",
       "   Car  Landsize  BuildingArea  YearBuilt  CouncilArea  Longtitude  \\\n",
       "0    2         0         100.0       1998           26   145.01600   \n",
       "1    0         0          94.0       1890           31   144.98863   \n",
       "2    2       602         129.0       1980           29   145.06912   \n",
       "3    2       217         266.0       2003           10   144.87960   \n",
       "4    2       604         190.0       1970           23   144.96860   \n",
       "\n",
       "   Regionname  Propertycount  \n",
       "0           5           4836  \n",
       "1           2           4553  \n",
       "2           2          10529  \n",
       "3           6           6380  \n",
       "4           2           5070  "
      ]
     },
     "execution_count": 117,
     "metadata": {},
     "output_type": "execute_result"
    }
   ],
   "source": [
    "train = pd.read_csv('train.csv')\n",
    "train.head()"
   ]
  },
  {
   "cell_type": "code",
   "execution_count": 118,
   "metadata": {},
   "outputs": [
    {
     "name": "stdout",
     "output_type": "stream",
     "text": [
      "<class 'pandas.core.frame.DataFrame'>\n",
      "RangeIndex: 4781 entries, 0 to 4780\n",
      "Data columns (total 17 columns):\n",
      " #   Column         Non-Null Count  Dtype  \n",
      "---  ------         --------------  -----  \n",
      " 0   Id             4781 non-null   int64  \n",
      " 1   Rooms          4781 non-null   int64  \n",
      " 2   Type           4781 non-null   int64  \n",
      " 3   Price          4781 non-null   int64  \n",
      " 4   Method         4781 non-null   int64  \n",
      " 5   SellerG        4781 non-null   int64  \n",
      " 6   Distance       4781 non-null   float64\n",
      " 7   Postcode       4781 non-null   int64  \n",
      " 8   Bathroom       4781 non-null   int64  \n",
      " 9   Car            4781 non-null   int64  \n",
      " 10  Landsize       4781 non-null   int64  \n",
      " 11  BuildingArea   4781 non-null   float64\n",
      " 12  YearBuilt      4781 non-null   int64  \n",
      " 13  CouncilArea    4781 non-null   int64  \n",
      " 14  Longtitude     4781 non-null   float64\n",
      " 15  Regionname     4781 non-null   int64  \n",
      " 16  Propertycount  4781 non-null   int64  \n",
      "dtypes: float64(3), int64(14)\n",
      "memory usage: 635.1 KB\n"
     ]
    }
   ],
   "source": [
    "train.info()"
   ]
  },
  {
   "cell_type": "code",
   "execution_count": 119,
   "metadata": {},
   "outputs": [],
   "source": [
    "train.drop('Id', axis = 1, inplace = True )"
   ]
  },
  {
   "cell_type": "code",
   "execution_count": 120,
   "metadata": {},
   "outputs": [
    {
     "data": {
      "text/html": [
       "<div>\n",
       "<style scoped>\n",
       "    .dataframe tbody tr th:only-of-type {\n",
       "        vertical-align: middle;\n",
       "    }\n",
       "\n",
       "    .dataframe tbody tr th {\n",
       "        vertical-align: top;\n",
       "    }\n",
       "\n",
       "    .dataframe thead th {\n",
       "        text-align: right;\n",
       "    }\n",
       "</style>\n",
       "<table border=\"1\" class=\"dataframe\">\n",
       "  <thead>\n",
       "    <tr style=\"text-align: right;\">\n",
       "      <th></th>\n",
       "      <th>Rooms</th>\n",
       "      <th>Type</th>\n",
       "      <th>Price</th>\n",
       "      <th>Method</th>\n",
       "      <th>SellerG</th>\n",
       "      <th>Distance</th>\n",
       "      <th>Postcode</th>\n",
       "      <th>Bathroom</th>\n",
       "      <th>Car</th>\n",
       "      <th>Landsize</th>\n",
       "      <th>BuildingArea</th>\n",
       "      <th>YearBuilt</th>\n",
       "      <th>CouncilArea</th>\n",
       "      <th>Longtitude</th>\n",
       "      <th>Regionname</th>\n",
       "      <th>Propertycount</th>\n",
       "    </tr>\n",
       "  </thead>\n",
       "  <tbody>\n",
       "    <tr>\n",
       "      <th>count</th>\n",
       "      <td>4781.000000</td>\n",
       "      <td>4781.000000</td>\n",
       "      <td>4.781000e+03</td>\n",
       "      <td>4781.000000</td>\n",
       "      <td>4781.000000</td>\n",
       "      <td>4781.000000</td>\n",
       "      <td>4781.000000</td>\n",
       "      <td>4781.000000</td>\n",
       "      <td>4781.000000</td>\n",
       "      <td>4781.000000</td>\n",
       "      <td>4781.000000</td>\n",
       "      <td>4781.000000</td>\n",
       "      <td>4781.000000</td>\n",
       "      <td>4781.000000</td>\n",
       "      <td>4781.000000</td>\n",
       "      <td>4781.000000</td>\n",
       "    </tr>\n",
       "    <tr>\n",
       "      <th>mean</th>\n",
       "      <td>2.964861</td>\n",
       "      <td>0.540473</td>\n",
       "      <td>1.080936e+06</td>\n",
       "      <td>1.441330</td>\n",
       "      <td>131.485254</td>\n",
       "      <td>10.045367</td>\n",
       "      <td>3103.308931</td>\n",
       "      <td>1.587952</td>\n",
       "      <td>1.605522</td>\n",
       "      <td>480.500105</td>\n",
       "      <td>143.157231</td>\n",
       "      <td>1964.338423</td>\n",
       "      <td>13.609705</td>\n",
       "      <td>144.991934</td>\n",
       "      <td>3.772223</td>\n",
       "      <td>7477.201213</td>\n",
       "    </tr>\n",
       "    <tr>\n",
       "      <th>std</th>\n",
       "      <td>0.957911</td>\n",
       "      <td>0.837337</td>\n",
       "      <td>6.757098e+05</td>\n",
       "      <td>1.141898</td>\n",
       "      <td>77.203630</td>\n",
       "      <td>5.871496</td>\n",
       "      <td>87.538064</td>\n",
       "      <td>0.711276</td>\n",
       "      <td>0.946698</td>\n",
       "      <td>899.489722</td>\n",
       "      <td>91.438501</td>\n",
       "      <td>38.064151</td>\n",
       "      <td>10.389644</td>\n",
       "      <td>0.103051</td>\n",
       "      <td>2.024068</td>\n",
       "      <td>4395.746550</td>\n",
       "    </tr>\n",
       "    <tr>\n",
       "      <th>min</th>\n",
       "      <td>1.000000</td>\n",
       "      <td>0.000000</td>\n",
       "      <td>1.450000e+05</td>\n",
       "      <td>0.000000</td>\n",
       "      <td>2.000000</td>\n",
       "      <td>0.000000</td>\n",
       "      <td>3000.000000</td>\n",
       "      <td>1.000000</td>\n",
       "      <td>0.000000</td>\n",
       "      <td>0.000000</td>\n",
       "      <td>0.000000</td>\n",
       "      <td>1196.000000</td>\n",
       "      <td>-1.000000</td>\n",
       "      <td>144.545320</td>\n",
       "      <td>0.000000</td>\n",
       "      <td>389.000000</td>\n",
       "    </tr>\n",
       "    <tr>\n",
       "      <th>25%</th>\n",
       "      <td>2.000000</td>\n",
       "      <td>0.000000</td>\n",
       "      <td>6.300000e+05</td>\n",
       "      <td>1.000000</td>\n",
       "      <td>73.000000</td>\n",
       "      <td>6.100000</td>\n",
       "      <td>3044.000000</td>\n",
       "      <td>1.000000</td>\n",
       "      <td>1.000000</td>\n",
       "      <td>168.000000</td>\n",
       "      <td>94.000000</td>\n",
       "      <td>1940.000000</td>\n",
       "      <td>2.000000</td>\n",
       "      <td>144.927270</td>\n",
       "      <td>2.000000</td>\n",
       "      <td>4380.000000</td>\n",
       "    </tr>\n",
       "    <tr>\n",
       "      <th>50%</th>\n",
       "      <td>3.000000</td>\n",
       "      <td>0.000000</td>\n",
       "      <td>9.000000e+05</td>\n",
       "      <td>1.000000</td>\n",
       "      <td>135.000000</td>\n",
       "      <td>9.200000</td>\n",
       "      <td>3083.000000</td>\n",
       "      <td>1.000000</td>\n",
       "      <td>2.000000</td>\n",
       "      <td>411.000000</td>\n",
       "      <td>126.000000</td>\n",
       "      <td>1970.000000</td>\n",
       "      <td>15.000000</td>\n",
       "      <td>144.997500</td>\n",
       "      <td>5.000000</td>\n",
       "      <td>6567.000000</td>\n",
       "    </tr>\n",
       "    <tr>\n",
       "      <th>75%</th>\n",
       "      <td>4.000000</td>\n",
       "      <td>1.000000</td>\n",
       "      <td>1.337000e+06</td>\n",
       "      <td>1.000000</td>\n",
       "      <td>194.000000</td>\n",
       "      <td>13.000000</td>\n",
       "      <td>3147.000000</td>\n",
       "      <td>2.000000</td>\n",
       "      <td>2.000000</td>\n",
       "      <td>638.000000</td>\n",
       "      <td>172.000000</td>\n",
       "      <td>2000.000000</td>\n",
       "      <td>23.000000</td>\n",
       "      <td>145.055720</td>\n",
       "      <td>5.000000</td>\n",
       "      <td>10331.000000</td>\n",
       "    </tr>\n",
       "    <tr>\n",
       "      <th>max</th>\n",
       "      <td>8.000000</td>\n",
       "      <td>2.000000</td>\n",
       "      <td>9.000000e+06</td>\n",
       "      <td>4.000000</td>\n",
       "      <td>267.000000</td>\n",
       "      <td>47.300000</td>\n",
       "      <td>3977.000000</td>\n",
       "      <td>8.000000</td>\n",
       "      <td>10.000000</td>\n",
       "      <td>37000.000000</td>\n",
       "      <td>3112.000000</td>\n",
       "      <td>2018.000000</td>\n",
       "      <td>32.000000</td>\n",
       "      <td>145.445300</td>\n",
       "      <td>7.000000</td>\n",
       "      <td>21650.000000</td>\n",
       "    </tr>\n",
       "  </tbody>\n",
       "</table>\n",
       "</div>"
      ],
      "text/plain": [
       "             Rooms         Type         Price       Method      SellerG  \\\n",
       "count  4781.000000  4781.000000  4.781000e+03  4781.000000  4781.000000   \n",
       "mean      2.964861     0.540473  1.080936e+06     1.441330   131.485254   \n",
       "std       0.957911     0.837337  6.757098e+05     1.141898    77.203630   \n",
       "min       1.000000     0.000000  1.450000e+05     0.000000     2.000000   \n",
       "25%       2.000000     0.000000  6.300000e+05     1.000000    73.000000   \n",
       "50%       3.000000     0.000000  9.000000e+05     1.000000   135.000000   \n",
       "75%       4.000000     1.000000  1.337000e+06     1.000000   194.000000   \n",
       "max       8.000000     2.000000  9.000000e+06     4.000000   267.000000   \n",
       "\n",
       "          Distance     Postcode     Bathroom          Car      Landsize  \\\n",
       "count  4781.000000  4781.000000  4781.000000  4781.000000   4781.000000   \n",
       "mean     10.045367  3103.308931     1.587952     1.605522    480.500105   \n",
       "std       5.871496    87.538064     0.711276     0.946698    899.489722   \n",
       "min       0.000000  3000.000000     1.000000     0.000000      0.000000   \n",
       "25%       6.100000  3044.000000     1.000000     1.000000    168.000000   \n",
       "50%       9.200000  3083.000000     1.000000     2.000000    411.000000   \n",
       "75%      13.000000  3147.000000     2.000000     2.000000    638.000000   \n",
       "max      47.300000  3977.000000     8.000000    10.000000  37000.000000   \n",
       "\n",
       "       BuildingArea    YearBuilt  CouncilArea   Longtitude   Regionname  \\\n",
       "count   4781.000000  4781.000000  4781.000000  4781.000000  4781.000000   \n",
       "mean     143.157231  1964.338423    13.609705   144.991934     3.772223   \n",
       "std       91.438501    38.064151    10.389644     0.103051     2.024068   \n",
       "min        0.000000  1196.000000    -1.000000   144.545320     0.000000   \n",
       "25%       94.000000  1940.000000     2.000000   144.927270     2.000000   \n",
       "50%      126.000000  1970.000000    15.000000   144.997500     5.000000   \n",
       "75%      172.000000  2000.000000    23.000000   145.055720     5.000000   \n",
       "max     3112.000000  2018.000000    32.000000   145.445300     7.000000   \n",
       "\n",
       "       Propertycount  \n",
       "count    4781.000000  \n",
       "mean     7477.201213  \n",
       "std      4395.746550  \n",
       "min       389.000000  \n",
       "25%      4380.000000  \n",
       "50%      6567.000000  \n",
       "75%     10331.000000  \n",
       "max     21650.000000  "
      ]
     },
     "execution_count": 120,
     "metadata": {},
     "output_type": "execute_result"
    }
   ],
   "source": [
    "train.describe()"
   ]
  },
  {
   "cell_type": "code",
   "execution_count": 121,
   "metadata": {},
   "outputs": [
    {
     "data": {
      "text/plain": [
       "Rooms            0\n",
       "Type             0\n",
       "Price            0\n",
       "Method           0\n",
       "SellerG          0\n",
       "Distance         0\n",
       "Postcode         0\n",
       "Bathroom         0\n",
       "Car              0\n",
       "Landsize         0\n",
       "BuildingArea     0\n",
       "YearBuilt        0\n",
       "CouncilArea      0\n",
       "Longtitude       0\n",
       "Regionname       0\n",
       "Propertycount    0\n",
       "dtype: int64"
      ]
     },
     "execution_count": 121,
     "metadata": {},
     "output_type": "execute_result"
    }
   ],
   "source": [
    "train.isnull().sum()"
   ]
  },
  {
   "cell_type": "markdown",
   "metadata": {},
   "source": [
    "### No missing values"
   ]
  },
  {
   "cell_type": "markdown",
   "metadata": {},
   "source": [
    "### Price Distribution"
   ]
  },
  {
   "cell_type": "code",
   "execution_count": 122,
   "metadata": {},
   "outputs": [
    {
     "data": {
      "image/png": "[encoded data removed]",
      "text/plain": [
       "<Figure size 432x288 with 1 Axes>"
      ]
     },
     "metadata": {
      "needs_background": "light"
     },
     "output_type": "display_data"
    }
   ],
   "source": [
    "plt.yscale('log')\n",
    "plt.hist(train.Price, rwidth = 0.5)\n",
    "plt.xlabel('Price')\n",
    "plt.ylabel('No: of properties')\n",
    "plt.rcParams.update({'font.size': 22})\n",
    "plt.show()"
   ]
  },
  {
   "cell_type": "code",
   "execution_count": 123,
   "metadata": {},
   "outputs": [
    {
     "data": {
      "text/plain": [
       "<AxesSubplot:xlabel='Bathroom', ylabel='count'>"
      ]
     },
     "execution_count": 123,
     "metadata": {},
     "output_type": "execute_result"
    },
    {
     "data": {
      "image/png": "[encoded data removed]",
      "text/plain": [
       "<Figure size 432x288 with 1 Axes>"
      ]
     },
     "metadata": {
      "needs_background": "light"
     },
     "output_type": "display_data"
    }
   ],
   "source": [
    "import seaborn as sns\n",
    "sns.countplot('Bathroom', data = train)"
   ]
  },
  {
   "cell_type": "markdown",
   "metadata": {},
   "source": [
    "## Model building\n",
    "\n",
    "- Separate the features and target and then split the train data into train and validation set.\n",
    "- Apply different models of your choice and  then predict on the validation data and find the `accuracy_score` for this prediction.\n",
    "- Try improving upon the `accuracy_score` using different regularization techniques."
   ]
  },
  {
   "cell_type": "code",
   "execution_count": 124,
   "metadata": {},
   "outputs": [],
   "source": [
    "# Code starts here\n",
    "X = train.drop('Price', axis = 1)\n",
    "y = train['Price']\n",
    "X_train, X_test, y_train, y_test = train_test_split(X, y, test_size = 0.3, random_state = 30)"
   ]
  },
  {
   "cell_type": "markdown",
   "metadata": {},
   "source": [
    "### Linear Regression"
   ]
  },
  {
   "cell_type": "code",
   "execution_count": 125,
   "metadata": {},
   "outputs": [
    {
     "name": "stdout",
     "output_type": "stream",
     "text": [
      "0.6515846211927984\n"
     ]
    }
   ],
   "source": [
    "LR = LinearRegression()\n",
    "LR.fit(X_train, y_train)\n",
    "preds = LR.predict(X_test)\n",
    "rmse_LR = np.sqrt(mean_squared_error(preds, y_test))\n",
    "acc_LR = r2_score(y_test, preds)\n",
    "print(acc_LR)"
   ]
  },
  {
   "cell_type": "code",
   "execution_count": 172,
   "metadata": {},
   "outputs": [
    {
     "name": "stdout",
     "output_type": "stream",
     "text": [
      "0.7455794900467798\n"
     ]
    }
   ],
   "source": [
    "poly_model = make_pipeline(PolynomialFeatures(2, include_bias=False), LinearRegression())\n",
    "poly_model.fit(X_train[:], y_train)\n",
    "preds = poly_model.predict(X_test)\n",
    "rmse_LR = np.sqrt(mean_squared_error(preds, y_test))\n",
    "acc_LR = r2_score(y_test, preds)\n",
    "print(acc_LR)"
   ]
  },
  {
   "cell_type": "code",
   "execution_count": 132,
   "metadata": {},
   "outputs": [
    {
     "name": "stdout",
     "output_type": "stream",
     "text": [
      "0.6515853190380507\n"
     ]
    }
   ],
   "source": [
    "LS = Lasso()\n",
    "LS.fit(X_train, y_train)\n",
    "preds = LS.predict(X_test)\n",
    "rmse_LS = np.sqrt(mean_squared_error(preds, y_test))\n",
    "acc_LS = r2_score(y_test, preds)\n",
    "print(acc_LS)"
   ]
  },
  {
   "cell_type": "code",
   "execution_count": 133,
   "metadata": {},
   "outputs": [
    {
     "data": {
      "text/plain": [
       "0"
      ]
     },
     "execution_count": 133,
     "metadata": {},
     "output_type": "execute_result"
    }
   ],
   "source": [
    "sum(LS.coef_ == 0)"
   ]
  },
  {
   "cell_type": "code",
   "execution_count": 134,
   "metadata": {},
   "outputs": [
    {
     "name": "stdout",
     "output_type": "stream",
     "text": [
      "0.6517678110784506\n"
     ]
    }
   ],
   "source": [
    "RD = Ridge()\n",
    "RD.fit(X_train, y_train)\n",
    "preds = RD.predict(X_test)\n",
    "rmse_RD = np.sqrt(mean_squared_error(preds, y_test))\n",
    "acc_RD = r2_score(y_test, preds)\n",
    "print(acc_RD)"
   ]
  },
  {
   "cell_type": "code",
   "execution_count": 141,
   "metadata": {},
   "outputs": [
    {
     "name": "stdout",
     "output_type": "stream",
     "text": [
      "198194324531.22482 198194810000.91135 198317318558.85892\n"
     ]
    }
   ],
   "source": [
    "scorer = make_scorer(mean_squared_error, greater_is_better=False)\n",
    "rmse_LR = -np.mean(cross_val_score(LR, X_train, y_train, scoring=scorer, cv = 10))\n",
    "rmse_LS = -np.mean(cross_val_score(LS, X_train, y_train, scoring=scorer, cv = 10))\n",
    "rmse_RD = -np.mean(cross_val_score(RD, X_train, y_train, scoring=scorer, cv = 10))\n",
    "print(rmse_LR, rmse_LS, rmse_RD)"
   ]
  },
  {
   "cell_type": "code",
   "execution_count": 177,
   "metadata": {},
   "outputs": [
    {
     "name": "stdout",
     "output_type": "stream",
     "text": [
      "Ridge\n"
     ]
    }
   ],
   "source": [
    "ridge_lambdas = [0.03, 0.06, 0.1, 0.001, 0.0001]\n",
    "lasso_lambdas = [0.0001, 0.0003, 0.0006, 0.001, 0.003, 0.006, 0.01]\n",
    "\n",
    "# Code starts here\n",
    "# instantiate lasso and ridge models\n",
    "lasso_model = Lasso()\n",
    "ridge_model = Ridge()\n",
    "\n",
    "# grid search on lasso and ridge\n",
    "lasso_grid = GridSearchCV(lasso_model, param_grid = dict(alpha = lasso_lambdas))\n",
    "ridge_grid = GridSearchCV(ridge_model, param_grid = dict(alpha = ridge_lambdas))\n",
    "\n",
    "\n",
    "# make predictions \n",
    "lasso_grid.fit(X_train, y_train)\n",
    "lasso_pred = lasso_grid.predict(X_test)\n",
    "\n",
    "ridge_grid.fit(X_train, y_train)\n",
    "ridge_pred = ridge_grid.predict(X_test)\n",
    "\n",
    "lasso_rmse = np.sqrt(mean_squared_error(lasso_pred, y_test))\n",
    "ridge_rmse = np.sqrt(mean_squared_error(ridge_pred, y_test))\n",
    "\n",
    "# print out which is better\n",
    "best_model =  'Lasso' if lasso_rmse < ridge_rmse else 'Ridge'\n",
    "print(best_model)\n"
   ]
  },
  {
   "cell_type": "code",
   "execution_count": 178,
   "metadata": {},
   "outputs": [
    {
     "data": {
      "text/plain": [
       "Lasso(alpha=0.0001)"
      ]
     },
     "execution_count": 178,
     "metadata": {},
     "output_type": "execute_result"
    }
   ],
   "source": [
    "lasso_grid.best_estimator_"
   ]
  },
  {
   "cell_type": "code",
   "execution_count": 179,
   "metadata": {},
   "outputs": [
    {
     "name": "stdout",
     "output_type": "stream",
     "text": [
      "388028.2231964181\n",
      "0.6517678110784506\n"
     ]
    }
   ],
   "source": [
    "ridge_model.fit(X_train, y_train)\n",
    "preds = ridge_model.predict(X_test)\n",
    "rmse = np.sqrt(mean_squared_error(preds, y_test))\n",
    "print(rmse)\n",
    "print(r2_score(y_test, preds))"
   ]
  },
  {
   "cell_type": "code",
   "execution_count": 171,
   "metadata": {},
   "outputs": [
    {
     "name": "stdout",
     "output_type": "stream",
     "text": [
      "0.6515853190380507\n"
     ]
    }
   ],
   "source": [
    "lasso_model.fit(X_train, y_train)\n",
    "preds = lasso_model.predict(X_test)\n",
    "print(r2_score(y_test, preds))"
   ]
  },
  {
   "cell_type": "markdown",
   "metadata": {},
   "source": [
    "### Prediction on the test data and creating the sample submission file.\n",
    "\n",
    "- Load the test data and store the `Id` column in a separate variable.\n",
    "- Perform the same operations on the test data that you have performed on the train data.\n",
    "- Create the submission file as a `csv` file consisting of the `Id` column from the test data and your prediction as the second column."
   ]
  },
  {
   "cell_type": "code",
   "execution_count": 190,
   "metadata": {},
   "outputs": [],
   "source": [
    "# Code starts here\n",
    "test = pd.read_csv('test.csv')\n",
    "id_column = test['Id']\n",
    "test.drop(['Id'], axis =1, inplace = True)\n",
    "preds = ridge_grid.predict(test)\n",
    "final = pd.DataFrame({'Id' : id_column, 'Price' : preds})\n",
    "final.to_csv('sample_submission.csv', index=False)\n",
    "\n",
    "\n",
    "\n",
    "\n",
    "\n",
    "\n",
    "# Code ends here."
   ]
  }
 ],
 "metadata": {
  "kernelspec": {
   "display_name": "Python 3",
   "language": "python",
   "name": "python3"
  },
  "language_info": {
   "codemirror_mode": {
    "name": "ipython",
    "version": 3
   },
   "file_extension": ".py",
   "mimetype": "text/x-python",
   "name": "python",
   "nbconvert_exporter": "python",
   "pygments_lexer": "ipython3",
   "version": "3.7.3"
  }
 },
 "nbformat": 4,
 "nbformat_minor": 4
}
